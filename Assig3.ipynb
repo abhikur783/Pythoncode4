{
 "cells": [
  {
   "cell_type": "code",
   "execution_count": 1,
   "id": "af70f51d-6d0d-4bf8-8ab3-9e83a8264ad9",
   "metadata": {},
   "outputs": [],
   "source": [
    "#Q1.Explain with an example each when to use a for loop and a while loop:"
   ]
  },
  {
   "cell_type": "code",
   "execution_count": 2,
   "id": "74820392-7c56-49db-825f-125abfeaffcf",
   "metadata": {},
   "outputs": [
    {
     "name": "stdin",
     "output_type": "stream",
     "text": [
      "enter the your number 5\n"
     ]
    },
    {
     "name": "stdout",
     "output_type": "stream",
     "text": [
      "The sum is 15\n"
     ]
    }
   ],
   "source": [
    "#Q2.write a python program to print the sum and product of the first 10 natural numbers using for loop\n",
    "    #and while loop.\n",
    "n= int(input (\"enter the your number\"))\n",
    "sum=0\n",
    "while(n>0):\n",
    "    sum=sum+n\n",
    "    n=n-1\n",
    "print(\"The sum is\",sum)  \n",
    "    \n",
    "    "
   ]
  },
  {
   "cell_type": "code",
   "execution_count": 5,
   "id": "27f19129-9fe2-40e3-9062-89a1f22bb223",
   "metadata": {},
   "outputs": [
    {
     "name": "stdin",
     "output_type": "stream",
     "text": [
      "enter the your unit 310\n"
     ]
    },
    {
     "name": "stdout",
     "output_type": "stream",
     "text": [
      "2250.0\n"
     ]
    }
   ],
   "source": [
    "#Q3.Create a python program to compute the electricity bill for a household:\n",
    "unit=int(input(\"enter the your unit\"))\n",
    "if unit<=100:\n",
    "    payAmount=unit*4.5\n",
    "    print(payAmount)\n",
    "elif unit<=200 :\n",
    "    payAmount=100*4.5+(unit-100)*6\n",
    "    print(payAmount)\n",
    "elif unit<=300:\n",
    "    payAmount=100*4.5+100*6+(unit-200)*10\n",
    "    print(payAmount)\n",
    "elif unit>300:\n",
    "    payAmount=100*4.5+100*6+100*10+(unit-300)*20\n",
    "    print(payAmount)\n",
    "    "
   ]
  },
  {
   "cell_type": "code",
   "execution_count": 94,
   "id": "b3e60caa-1cd3-4d60-98e5-21ccea27f2ef",
   "metadata": {},
   "outputs": [
    {
     "name": "stdout",
     "output_type": "stream",
     "text": [
      "1 \t2 \t3 \t4 \t5 \t6 \t7 \t8 \t9 \t10 \t11 \t12 \t13 \t14 \t15 \t16 \t17 \t18 \t19 \t20 \t21 \t22 \t23 \t24 \t25 \t26 \t27 \t28 \t29 \t30 \t31 \t32 \t33 \t34 \t35 \t36 \t37 \t38 \t39 \t40 \t41 \t42 \t43 \t44 \t45 \t46 \t47 \t48 \t49 \t50 \t51 \t52 \t53 \t54 \t55 \t56 \t57 \t58 \t59 \t60 \t61 \t62 \t63 \t64 \t65 \t66 \t67 \t68 \t69 \t70 \t71 \t72 \t73 \t74 \t75 \t76 \t77 \t78 \t79 \t80 \t81 \t82 \t83 \t84 \t85 \t86 \t87 \t88 \t89 \t90 \t91 \t92 \t93 \t94 \t95 \t96 \t97 \t98 \t99 \t100 \t\n",
      "All cube list\n",
      "\t [1, 8, 27, 64, 125, 216, 343, 512, 729, 1000, 1331, 1728, 2197, 2744, 3375, 4096, 4913, 5832, 6859, 8000, 9261, 10648, 12167, 13824, 15625, 17576, 19683, 21952, 24389, 27000, 29791, 32768, 35937, 39304, 42875, 46656, 50653, 54872, 59319, 64000, 68921, 74088, 79507, 85184, 91125, 97336, 103823, 110592, 117649, 125000, 132651, 140608, 148877, 157464, 166375, 175616, 185193, 195112, 205379, 216000, 226981, 238328, 250047, 262144, 274625, 287496, 300763, 314432, 328509, 343000, 357911, 373248, 389017, 405224, 421875, 438976, 456533, 474552, 493039, 512000, 531441, 551368, 571787, 592704, 614125, 636056, 658503, 681472, 704969, 729000, 753571, 778688, 804357, 830584, 857375, 884736, 912673, 941192, 970299]\n",
      "[80]\n"
     ]
    }
   ],
   "source": [
    "#Q4.Create of a list of number from 1 to 100.Use for loop and while loop to caculate the cube of each number and \n",
    "# if the cube of that number is divisible by 4 or 5 then append that number  in a list and print that list:\n",
    "\n",
    "for n in range(1,101):\n",
    "    print(n , end=' \\t') \n",
    "#Cube list using foe loop:\n",
    "cube = []\n",
    "for n in range(1,100):\n",
    "    cube.append(n**3)\n",
    "print(\"\\nAll cube list\\n\\t\",cube)\n",
    "\n",
    "for cube in range(1,100):    \n",
    "     if ((cube % 4==0) and (cube % 5==0)): \n",
    "        num=[]\n",
    "        num.append(cube)\n",
    "print(num)    "
   ]
  },
  {
   "cell_type": "code",
   "execution_count": 95,
   "id": "6669e65d-ba1b-49a9-918c-376724babe79",
   "metadata": {},
   "outputs": [
    {
     "name": "stdout",
     "output_type": "stream",
     "text": [
      "13\n"
     ]
    }
   ],
   "source": [
    "#Q5.write a program to filter count vowel in the below given string.\n",
    "# string= \"i want to be a become a data scientist\".\n",
    "\n",
    "string = \"i am to be a become a data scintist\"\n",
    "vowels = [\"a\",\"e\",\"i\",\"o\",\"u\"]\n",
    "count = 0\n",
    "for char in string:\n",
    "    if char in vowels:\n",
    "        count=count+1\n",
    "print(count)        "
   ]
  },
  {
   "cell_type": "code",
   "execution_count": null,
   "id": "488703ad-498c-4889-a954-5692571db0c4",
   "metadata": {},
   "outputs": [],
   "source": []
  }
 ],
 "metadata": {
  "kernelspec": {
   "display_name": "Python 3 (ipykernel)",
   "language": "python",
   "name": "python3"
  },
  "language_info": {
   "codemirror_mode": {
    "name": "ipython",
    "version": 3
   },
   "file_extension": ".py",
   "mimetype": "text/x-python",
   "name": "python",
   "nbconvert_exporter": "python",
   "pygments_lexer": "ipython3",
   "version": "3.10.8"
  }
 },
 "nbformat": 4,
 "nbformat_minor": 5
}
