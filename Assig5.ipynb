{
 "cells": [
  {
   "cell_type": "code",
   "execution_count": 7,
   "id": "2f3ecb66-db6c-4e5e-8eaa-bd8833acb3ce",
   "metadata": {},
   "outputs": [
    {
     "name": "stdout",
     "output_type": "stream",
     "text": [
      "[('Virat Kohli', 24936), ('Jack Kallis', 25534), ('Ricky Ponting', 27483), ('Sachin Tendulkar', 34357)]\n"
     ]
    }
   ],
   "source": [
    "#Q1. Create a python program to sort the list of tuple based on integer value using\n",
    "#    lambda function:\n",
    "\n",
    "my_list = [(\"Sachin Tendulkar\",34357),(\"Ricky Ponting\",27483),(\"Jack Kallis\",25534),(\"Virat Kohli\",24936)]\n",
    "my_list.sort(key =lambda x : x[1] )\n",
    "print(my_list)"
   ]
  },
  {
   "cell_type": "code",
   "execution_count": 8,
   "id": "e919bff4-9abf-4ad0-b76a-ec820f7aab00",
   "metadata": {},
   "outputs": [
    {
     "data": {
      "text/plain": [
       "[('Virat Kohli', 24936),\n",
       " ('Jack Kallis', 25534),\n",
       " ('Ricky Ponting', 27483),\n",
       " ('Sachin Tendulkar', 34357)]"
      ]
     },
     "execution_count": 8,
     "metadata": {},
     "output_type": "execute_result"
    }
   ],
   "source": [
    "my_list"
   ]
  },
  {
   "cell_type": "code",
   "execution_count": 2,
   "id": "40a1a223-f3ba-48c4-ba10-099de1df992c",
   "metadata": {},
   "outputs": [
    {
     "data": {
      "text/plain": [
       "[1, 4, 9, 16, 25, 36, 49, 64, 81, 100]"
      ]
     },
     "execution_count": 2,
     "metadata": {},
     "output_type": "execute_result"
    }
   ],
   "source": [
    "#Q2.write a python program to find the squares of all the number\n",
    "#in the given list of integer using lambda and map function:\n",
    "l = [1,2,3,4,5,6,7,8,9,10]\n",
    "list(map(lambda x : x**2, l))"
   ]
  },
  {
   "cell_type": "code",
   "execution_count": 13,
   "id": "ef0efc72-4189-4cc4-81f0-666114c63410",
   "metadata": {},
   "outputs": [],
   "source": [
    "#Q3. write a program to convert the given list of integer into tuple of string.use map and lambda function:\n",
    "s=[1,2,3,4,5,6,7,8,9,10]"
   ]
  },
  {
   "cell_type": "code",
   "execution_count": 15,
   "id": "ed60ee98-23f1-4bf9-9adf-40538a09ec1f",
   "metadata": {},
   "outputs": [
    {
     "data": {
      "text/plain": [
       "('1', '2', '3', '4', '5', '6', '7', '8', '9', '10')"
      ]
     },
     "execution_count": 15,
     "metadata": {},
     "output_type": "execute_result"
    }
   ],
   "source": [
    "tuple(map(lambda s :str(s)  ,s))"
   ]
  },
  {
   "cell_type": "code",
   "execution_count": 1,
   "id": "145d7071-9b95-4917-991d-4866903c93f4",
   "metadata": {},
   "outputs": [],
   "source": [
    "#Q4.write a program using reduce function to compute the product of a list containing numbers from 1 to 25:"
   ]
  },
  {
   "cell_type": "code",
   "execution_count": 7,
   "id": "9fc5dd7f-5d85-4781-b05f-0a0478267278",
   "metadata": {},
   "outputs": [],
   "source": [
    "from functools import reduce"
   ]
  },
  {
   "cell_type": "code",
   "execution_count": 10,
   "id": "954a0411-ddc1-4551-8d49-0952faf0a097",
   "metadata": {},
   "outputs": [],
   "source": [
    "l = [1,2,3,4,5,6,7,8,9,10,11,12,13,14,15,16,17,18,19,20,21,22,24,25]"
   ]
  },
  {
   "cell_type": "code",
   "execution_count": 11,
   "id": "17a63896-fa17-4904-9e5d-59caae375ff5",
   "metadata": {},
   "outputs": [
    {
     "data": {
      "text/plain": [
       "674400436666564608000000"
      ]
     },
     "execution_count": 11,
     "metadata": {},
     "output_type": "execute_result"
    }
   ],
   "source": [
    "reduce(lambda x , y : x * y , l)"
   ]
  },
  {
   "cell_type": "code",
   "execution_count": 2,
   "id": "1c1ced28-bd02-4f3c-81bc-a09b5fdfca7a",
   "metadata": {},
   "outputs": [
    {
     "data": {
      "text/plain": [
       "[2, 3, 6, 9, 27, 60, 90, 120, 46]"
      ]
     },
     "execution_count": 2,
     "metadata": {},
     "output_type": "execute_result"
    }
   ],
   "source": [
    "#Q5. Write a python program to filter the number in a given list that are divisible by 2and 3 using the filter \n",
    "#function:\n",
    "l = [2,3,6,9,27,60,90,120,55,46]\n",
    "list(filter(lambda x : (x % 2 == 0 or x % 3 == 0), l))"
   ]
  },
  {
   "cell_type": "code",
   "execution_count": 7,
   "id": "47fad3bf-7bb2-4c6e-8681-55154b0badee",
   "metadata": {},
   "outputs": [
    {
     "data": {
      "text/plain": [
       "['php', 'aba', 'radar', 'level']"
      ]
     },
     "execution_count": 7,
     "metadata": {},
     "output_type": "execute_result"
    }
   ],
   "source": [
    "#Q6.Write a program to find polindromes in the given list of strings using lambda and filter fumction :\n",
    "\n",
    "texts=[\"python\",\"php\",\"aba\",\"radar\",\"level\"]\n",
    "    \n",
    "list (filter(lambda x : (x == \"\".join(reversed(x))),texts))"
   ]
  },
  {
   "cell_type": "code",
   "execution_count": null,
   "id": "0de145b2-7ba6-4873-bbf1-468af922226f",
   "metadata": {},
   "outputs": [],
   "source": []
  }
 ],
 "metadata": {
  "kernelspec": {
   "display_name": "Python 3 (ipykernel)",
   "language": "python",
   "name": "python3"
  },
  "language_info": {
   "codemirror_mode": {
    "name": "ipython",
    "version": 3
   },
   "file_extension": ".py",
   "mimetype": "text/x-python",
   "name": "python",
   "nbconvert_exporter": "python",
   "pygments_lexer": "ipython3",
   "version": "3.10.8"
  }
 },
 "nbformat": 4,
 "nbformat_minor": 5
}
