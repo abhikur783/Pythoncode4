{
 "cells": [
  {
   "cell_type": "code",
   "execution_count": 1,
   "id": "c24cfcf4-f1cc-4f04-bf05-1b9b6c8c738f",
   "metadata": {},
   "outputs": [],
   "source": [
    "#Q1.\n",
    "def password_validator(password):\n",
    "    special_char    = [\"@\", \"#\",\"$\",\"%\",\"*\",\"&\"]\n",
    "    isLength_ok     =  True if len(password)>=10 and len(password)<20 else False\n",
    "    isDigit_present =any(char.isdigit()for char in password)\n",
    "    isLower_present =any(char.islower()for char in password)\n",
    "    isUpper_present =any(char.isupper()for char in password)\n",
    "    isSpecial_present =any(char in special_char for char in password)\n",
    "    \n",
    "    isValid = all([isLength_ok, isDigit_present, isLower_present, isUpper_present, isSpecial_present])\n",
    "    if isValid:\n",
    "        print(\"Valid password\")\n",
    "    else:\n",
    "        print(\"Invalid password\")\n"
   ]
  },
  {
   "cell_type": "code",
   "execution_count": 2,
   "id": "58ff2a99-a43c-42e0-8f74-44c55ef476c4",
   "metadata": {},
   "outputs": [
    {
     "name": "stdin",
     "output_type": "stream",
     "text": [
      "Create password 1234\n"
     ]
    },
    {
     "name": "stdout",
     "output_type": "stream",
     "text": [
      "Invalid password\n"
     ]
    }
   ],
   "source": [
    "input_password=input(\"Create password\")\n",
    "password_validator(input_password)"
   ]
  },
  {
   "cell_type": "code",
   "execution_count": 10,
   "id": "da249e32-de2c-4ac9-97da-c5d0d49dbd86",
   "metadata": {},
   "outputs": [
    {
     "name": "stdin",
     "output_type": "stream",
     "text": [
      "enter word India\n"
     ]
    },
    {
     "name": "stdout",
     "output_type": "stream",
     "text": [
      "True\n"
     ]
    }
   ],
   "source": [
    "#q2.A:Cheak  if the string starts with a particular letter.\n",
    "latter= input(\"enter word\")\n",
    "starts_with = lambda x : True if x.startswith(\"I\")  else False\n",
    "print(starts_with(latter))"
   ]
  },
  {
   "cell_type": "code",
   "execution_count": 11,
   "id": "d080b5b3-eaa7-4bbd-b741-dd1f73efe89c",
   "metadata": {},
   "outputs": [],
   "source": [
    "#Q2.B:Cheak if the string is numeric :"
   ]
  },
  {
   "cell_type": "code",
   "execution_count": 7,
   "id": "60e8d855-cffb-4694-a704-e16ac2a9a507",
   "metadata": {},
   "outputs": [
    {
     "name": "stdout",
     "output_type": "stream",
     "text": [
      "[('orange', 80), ('mango', 99), ('grapes', 1000)]\n"
     ]
    }
   ],
   "source": [
    "#Q2.C:Sort a list of tuple having fruit name and their quantity:\n",
    "list = [(\"mango\",99),(\"orange\",80),(\"grapes\",1000)]\n",
    "list.sort(key = lambda x : x [1])\n",
    "print(list)\n"
   ]
  },
  {
   "cell_type": "code",
   "execution_count": 4,
   "id": "2e8c80cf-d81c-4740-b71d-8742e046aba1",
   "metadata": {},
   "outputs": [],
   "source": [
    "l = [1,3,4,5,6,7,8,9,10]"
   ]
  },
  {
   "cell_type": "code",
   "execution_count": 5,
   "id": "562d1865-1640-4ec4-bf1e-e7e4ed06cbe0",
   "metadata": {},
   "outputs": [],
   "source": [
    "def sq(x):\n",
    "    return x**2"
   ]
  },
  {
   "cell_type": "code",
   "execution_count": 6,
   "id": "ca0029a6-56fa-4e5c-8028-09860d10301c",
   "metadata": {},
   "outputs": [
    {
     "data": {
      "text/plain": [
       "[1, 9, 16, 25, 36, 49, 64, 81, 100]"
      ]
     },
     "execution_count": 6,
     "metadata": {},
     "output_type": "execute_result"
    }
   ],
   "source": [
    "list(map(sq , l))"
   ]
  },
  {
   "cell_type": "code",
   "execution_count": 4,
   "id": "c6a30125-7be6-4281-94f3-e03e5b60e28a",
   "metadata": {},
   "outputs": [],
   "source": [
    "#Q2.E:Find the cube  root of numbers from 1 to 10 :\n",
    "l1 = [1,2,3,4,5,6,7,8,9,10]\n"
   ]
  },
  {
   "cell_type": "code",
   "execution_count": 5,
   "id": "7d383cfb-c1c4-4e95-af56-fb9dde2766f2",
   "metadata": {},
   "outputs": [
    {
     "data": {
      "text/plain": [
       "[1.0,\n",
       " 1.2599210498948732,\n",
       " 1.4422495703074083,\n",
       " 1.5874010519681994,\n",
       " 1.7099759466766968,\n",
       " 1.8171205928321397,\n",
       " 1.912931182772389,\n",
       " 2.0,\n",
       " 2.080083823051904,\n",
       " 2.154434690031884]"
      ]
     },
     "execution_count": 5,
     "metadata": {},
     "output_type": "execute_result"
    }
   ],
   "source": [
    "list(map(lambda x : x**(1/3) , l1))"
   ]
  },
  {
   "cell_type": "code",
   "execution_count": 3,
   "id": "a21a9d61-20c9-4655-9b6d-b109b7bfe648",
   "metadata": {},
   "outputs": [],
   "source": [
    "#Q2.F: cheak if a given number is even.\n",
    "\n",
    "l = [1,2,3,4,5,6,7,8,9,10]"
   ]
  },
  {
   "cell_type": "code",
   "execution_count": 6,
   "id": "140fd40f-5833-4d9b-bd1d-a0bb8f3173a7",
   "metadata": {},
   "outputs": [
    {
     "data": {
      "text/plain": [
       "[2, 4, 6, 8, 10]"
      ]
     },
     "execution_count": 6,
     "metadata": {},
     "output_type": "execute_result"
    }
   ],
   "source": [
    "list(filter(lambda x : x % 2 == 0, l))"
   ]
  },
  {
   "cell_type": "code",
   "execution_count": 7,
   "id": "897ecae9-59d4-4c9b-bc09-179a651a9c63",
   "metadata": {},
   "outputs": [],
   "source": [
    "#Q2.g:Filter odd numbers from the given numbers:\n",
    "number = [1,2,3,4,5,6,7,8,9,10]"
   ]
  },
  {
   "cell_type": "code",
   "execution_count": 8,
   "id": "acabad5e-f850-4501-83ee-224c24af788e",
   "metadata": {},
   "outputs": [
    {
     "data": {
      "text/plain": [
       "[1, 3, 5, 7, 9]"
      ]
     },
     "execution_count": 8,
     "metadata": {},
     "output_type": "execute_result"
    }
   ],
   "source": [
    "list(filter(lambda x : x % 2 != 0 , number))"
   ]
  },
  {
   "cell_type": "code",
   "execution_count": 2,
   "id": "8521f42f-c325-4396-8a4e-8b17f40e7267",
   "metadata": {},
   "outputs": [],
   "source": [
    "#Q2.h: Sort a list of integers into positive and negative integers lists.\n",
    "l = [1,2,3,4,5,6,-1,-2,-3,-4,-5,0]"
   ]
  },
  {
   "cell_type": "code",
   "execution_count": 3,
   "id": "0e16b530-c443-488e-bf7b-6f16f0d1eb6e",
   "metadata": {},
   "outputs": [
    {
     "data": {
      "text/plain": [
       "[-1, -2, -3, -4, -5]"
      ]
     },
     "execution_count": 3,
     "metadata": {},
     "output_type": "execute_result"
    }
   ],
   "source": [
    "list(filter(lambda x : x < 0 , l))"
   ]
  },
  {
   "cell_type": "code",
   "execution_count": 4,
   "id": "a3215370-f3e3-4e04-b12b-87fd00fd524f",
   "metadata": {},
   "outputs": [
    {
     "data": {
      "text/plain": [
       "[1, 2, 3, 4, 5, 6]"
      ]
     },
     "execution_count": 4,
     "metadata": {},
     "output_type": "execute_result"
    }
   ],
   "source": [
    "list(filter(lambda x : x > 0 , l))"
   ]
  },
  {
   "cell_type": "code",
   "execution_count": 5,
   "id": "946af556-5875-4cb5-b46a-90db6afc850e",
   "metadata": {},
   "outputs": [
    {
     "data": {
      "text/plain": [
       "[1, 2, 3, 4, 5, 6, -1, -2, -3, -4, -5, 0]"
      ]
     },
     "execution_count": 5,
     "metadata": {},
     "output_type": "execute_result"
    }
   ],
   "source": [
    "l"
   ]
  },
  {
   "cell_type": "code",
   "execution_count": 6,
   "id": "63e86959-7e0b-4731-b599-17c658e806c9",
   "metadata": {},
   "outputs": [
    {
     "name": "stdout",
     "output_type": "stream",
     "text": [
      "[-5, -4, -3, -2, -1, 0, 1, 2, 3, 4, 5, 6]\n"
     ]
    }
   ],
   "source": [
    "l.sort(key = lambda x : x*1.5 )\n",
    "print(l)"
   ]
  },
  {
   "cell_type": "code",
   "execution_count": null,
   "id": "b09b2f0e-01f5-4f9d-8a78-72d81dc5868e",
   "metadata": {},
   "outputs": [],
   "source": []
  }
 ],
 "metadata": {
  "kernelspec": {
   "display_name": "Python 3 (ipykernel)",
   "language": "python",
   "name": "python3"
  },
  "language_info": {
   "codemirror_mode": {
    "name": "ipython",
    "version": 3
   },
   "file_extension": ".py",
   "mimetype": "text/x-python",
   "name": "python",
   "nbconvert_exporter": "python",
   "pygments_lexer": "ipython3",
   "version": "3.10.8"
  }
 },
 "nbformat": 4,
 "nbformat_minor": 5
}
