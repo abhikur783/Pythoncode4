{
 "cells": [
  {
   "cell_type": "code",
   "execution_count": null,
   "id": "9f609bf7-80a9-4cfc-a955-87c9e7e1b4db",
   "metadata": {},
   "outputs": [],
   "source": [
    "python Clases:\n",
    "    A class is consider as a blueprint of objects. we can think of the class as a sketch (prototype)of a house. It cointains all the details about the floors ,doors,window,etc.\n",
    "    Based on these descriptions we build the house.\n",
    "    House is the object.\n",
    "    since many houses can be made frome the same description,we can create \n",
    "    many objects frm a class.\n",
    "    class ClassName:\n",
    "        # Class definition\n",
    "        class Bike:\n",
    "            name =\"\"\n",
    "            gear = 0\n",
    "        #class named\n",
    "\n",
    "Python Objects:\n",
    "   An object is called an instance of a class. For example,\n",
    "suppose Bike is a class then we can create objects like bike1,\n",
    "bike2,etc from the class.\n",
    "\n",
    "objectName = className()\n",
    "#create class\n",
    "class Bike:\n",
    "    name =\"\"\n",
    "    gear= 0\n",
    "#create Object of classs\n",
    "bike1 = Bike()\n",
    "              "
   ]
  },
  {
   "cell_type": "code",
   "execution_count": 7,
   "id": "bf389a7b-22c2-440c-bff2-ab42d00d008a",
   "metadata": {},
   "outputs": [
    {
     "name": "stdout",
     "output_type": "stream",
     "text": [
      "Name:{bike.1.name},Gear:{bike1.gear}\n"
     ]
    }
   ],
   "source": [
    "#Example1:python class and objects\n",
    "class Bike :\n",
    "    name = \"\"\n",
    "    gear = 0\n",
    "bike1 = Bike()\n",
    "bike1.gear = 11\n",
    "bike1.name = \"mountain\"\n",
    "print(\"Name:{bike.1.name},Gear:{bike1.gear}\")"
   ]
  },
  {
   "cell_type": "code",
   "execution_count": null,
   "id": "cd32151a-74ed-4d21-bc08-ffea6a9f23c1",
   "metadata": {},
   "outputs": [],
   "source": [
    "Q2.Name the four pillars of OOPs.\n",
    "1.Inheritance.\n",
    "2.Polymorphism\n",
    "3.Encapsulation\n",
    "4.Abstraction\n"
   ]
  },
  {
   "cell_type": "code",
   "execution_count": null,
   "id": "a443a9c2-450e-4cdd-a392-5d39a94b8118",
   "metadata": {},
   "outputs": [],
   "source": [
    "Q3.Explain why the __int__() function is used .Give a suitable example:\n",
    "    The __init___ function is  called  every time an object is create from a class.The __init__ method lets\n",
    "    the class initialize the object's attributes and serves no other purpose. it is only used within classes."
   ]
  },
  {
   "cell_type": "code",
   "execution_count": 10,
   "id": "adb70c93-e1d6-4bc6-bc70-8db795a48f70",
   "metadata": {},
   "outputs": [],
   "source": [
    "#Example:\n",
    "class Person:\n",
    "    def __init__(self , name, age):\n",
    "            self.name= name\n",
    "            self.age = age\n",
    "              "
   ]
  },
  {
   "cell_type": "code",
   "execution_count": 11,
   "id": "375558f0-5a60-4bf6-813a-067726e07a4e",
   "metadata": {},
   "outputs": [],
   "source": [
    "p1=Person(\"abhi\",21)"
   ]
  },
  {
   "cell_type": "code",
   "execution_count": 12,
   "id": "8bc6b4cf-967e-40a6-8807-d1f90e3e9a92",
   "metadata": {},
   "outputs": [
    {
     "name": "stdout",
     "output_type": "stream",
     "text": [
      "abhi 21\n"
     ]
    }
   ],
   "source": [
    "print(p1.name,p1.age)"
   ]
  },
  {
   "cell_type": "code",
   "execution_count": null,
   "id": "dc27f175-aa96-4fa2-825a-9a648f8a1eec",
   "metadata": {},
   "outputs": [],
   "source": [
    "Q4.Why self is used in OOPs?\n",
    "The self varisble is used to represent the instance of class which is often used in object oriented programming .\n",
    "It work as a reference to the object.Python uses the self parameter to refer to instance attirbutes and methods of class."
   ]
  },
  {
   "cell_type": "code",
   "execution_count": null,
   "id": "eee1d373-c67e-403e-b20c-498193a5bdd7",
   "metadata": {},
   "outputs": [],
   "source": [
    "Q5.What is inheritance ?Give an example for each type of inheritance.\n",
    "  When we define a class that inherits all the properties of other class called inheritance.\n",
    "    or,\n",
    "> Inheritance is a mechanism in which one class acquires the property of another class.\n",
    ">> Inheritance is a process of obtaining properties and characteristics(variables and methods) od another class. In this hierarichical order,the class\n",
    "   which inherits anothe class is called subclass or child class , and other class is the parent class.\n",
    "    \n",
    "#Type of inheritance:\n",
    "1. single      Inheritance\n",
    "2.Multiple     Inheritance\n",
    "3.Multilevel   Inheritance\n",
    "4.Heirarchical Inheritance\n",
    "5.Hybrid       Inheritance"
   ]
  },
  {
   "cell_type": "code",
   "execution_count": 3,
   "id": "c3e337bb-0a2c-4cba-b91e-3b5006044bcb",
   "metadata": {},
   "outputs": [
    {
     "name": "stdin",
     "output_type": "stream",
     "text": [
      "Enter the first number 40\n",
      "Enter the second number 10\n"
     ]
    },
    {
     "name": "stdout",
     "output_type": "stream",
     "text": [
      "Addition:  50\n",
      "subtraction  30\n",
      "multiplecation  400\n",
      "division  4.0\n",
      "remainder  0\n"
     ]
    }
   ],
   "source": [
    "#single Inheritance:\n",
    "#Single inheritance is nothing but which contain only one parent class and only one child class.\n",
    "# example;\n",
    "class A:\n",
    "    num1= int(input(\"Enter the first number\"))\n",
    "    num2= int(input(\"Enter the second number\"))\n",
    "    def add(self):\n",
    "        print(\"Addition: \",self.num1+self.num2)\n",
    "    def sub(self):\n",
    "        print(\"substration \",self.num1-self.num2)\n",
    "class B(A):\n",
    "    def multi(self):\n",
    "        print(\"multiplication \",self.num1*self.num2)\n",
    "    def div(self):\n",
    "        print(\"division \",self.num1/self.num2)\n",
    "    def rem(self):\n",
    "        print(\"remainder \",self.num1%self.num2)\n",
    "        \n",
    "obj=B()\n",
    "obj.add()\n",
    "obj.sub()\n",
    "obj.multi()\n",
    "obj.div()\n",
    "obj.rem()\n",
    "        \n"
   ]
  },
  {
   "cell_type": "code",
   "execution_count": 7,
   "id": "c35d2f80-238e-41bf-b34a-22049271e0d4",
   "metadata": {},
   "outputs": [
    {
     "name": "stdout",
     "output_type": "stream",
     "text": [
      "Abhi kumar\n",
      "Ankit kumar\n",
      "Abhi kumar\n"
     ]
    }
   ],
   "source": [
    "#2.multi-level inheritance:\n",
    "#  In this inheritance we have one parent class and multiple child class:\n",
    "class Father:\n",
    "    surname=\"kumar\"\n",
    "class Son(Father):\n",
    "    def show (self):\n",
    "        print(\"Abhi\",self.surname)\n",
    "class GSon(Son):\n",
    "    def Disp(self):\n",
    "        print(\"Ankit\",self.surname)\n",
    "s=Son()\n",
    "s.show()\n",
    "Gs=GSon()\n",
    "Gs.Disp()\n",
    "Gs.show()\n",
    "    "
   ]
  },
  {
   "cell_type": "code",
   "execution_count": 14,
   "id": "45d23d96-c154-4a03-a086-ce1b11354db9",
   "metadata": {},
   "outputs": [
    {
     "name": "stdout",
     "output_type": "stream",
     "text": [
      "Backend Task implemented using:  Oracle DB & java\n",
      "Frontend Task implemented using:  HTML CSS javascript\n",
      "Dynemic website Created..\n"
     ]
    }
   ],
   "source": [
    "#3. multiple inheritance:\n",
    "#   Inheritance which contain more parents classes and only one child class is called multiple inheritance.\n",
    "#Example:\n",
    "class Abhi:\n",
    "    Back=\"Oracle DB & java\"\n",
    "    def Backend(self):\n",
    "        print(\"Backend Task implemented using: \", self.Back)\n",
    "class Anku:\n",
    "    Front = \"HTML CSS javascript\"\n",
    "    def Frontend(self):\n",
    "        print(\"Frontend Task implemented using: \", self.Front)\n",
    "class TeamLead(Abhi,Anku):\n",
    "        def Show(self):\n",
    "            print(\"Dynemic website Created..\")\n",
    "T=TeamLead()\n",
    "T.Backend()\n",
    "T.Frontend()\n",
    "T.Show()\n"
   ]
  },
  {
   "cell_type": "code",
   "execution_count": 17,
   "id": "c4a8a1be-0155-441a-8c69-303946276ce0",
   "metadata": {},
   "outputs": [
    {
     "name": "stdout",
     "output_type": "stream",
     "text": [
      "My name is Abhi yadav\n",
      "my surname is  yadav\n",
      "my name is Siva yadav\n"
     ]
    }
   ],
   "source": [
    "#4.Hierarchical inheritance :\n",
    "#   Inhertance which contain only one parent class and multiple child classes but each child classes can access parent class proparty.\n",
    "class Father :\n",
    "    surname=\"yadav\"\n",
    "    def show(self):\n",
    "        print(\"my surname is \", self.surname)\n",
    "class son1(Father):\n",
    "    def disp(self):\n",
    "        print(\"My name is Abhi\", self.surname)\n",
    "class Son2(Father):\n",
    "    def nam(self):\n",
    "        print(\"my name is Siva\",self.surname)\n",
    "s1=son1()\n",
    "s2=Son2()\n",
    "s1.disp()\n",
    "s1.show()\n",
    "s2.nam()\n",
    "    \n"
   ]
  },
  {
   "cell_type": "code",
   "execution_count": null,
   "id": "99c40d0c-c7b4-4694-8a6a-3ff6040d40d3",
   "metadata": {},
   "outputs": [],
   "source": [
    "#5.Hybride Inheritance :\n",
    "   An inheritance is said hybrid inheritance if more than one type of inheritance is implemented in the same code."
   ]
  },
  {
   "cell_type": "code",
   "execution_count": null,
   "id": "2dc2e31c-638f-4c3d-a987-154f4ebd492e",
   "metadata": {},
   "outputs": [],
   "source": [
    "#Example:\n"
   ]
  }
 ],
 "metadata": {
  "kernelspec": {
   "display_name": "Python 3 (ipykernel)",
   "language": "python",
   "name": "python3"
  },
  "language_info": {
   "codemirror_mode": {
    "name": "ipython",
    "version": 3
   },
   "file_extension": ".py",
   "mimetype": "text/x-python",
   "name": "python",
   "nbconvert_exporter": "python",
   "pygments_lexer": "ipython3",
   "version": "3.10.8"
  }
 },
 "nbformat": 4,
 "nbformat_minor": 5
}
