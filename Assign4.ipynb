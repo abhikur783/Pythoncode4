{
 "cells": [
  {
   "cell_type": "code",
   "execution_count": null,
   "id": "9a2aabd0-dbb3-4b85-b0f5-9f6f62341257",
   "metadata": {},
   "outputs": [],
   "source": [
    "#Q1.which keyword is used to create a function? Create a function to return a list of odd number in the \n",
    "#range of 1 to 25:\n",
    "Ans: The def keyword is used to create a function in python:"
   ]
  },
  {
   "cell_type": "code",
   "execution_count": 6,
   "id": "c1a1447f-86a8-4c77-9a8d-78864970918d",
   "metadata": {},
   "outputs": [
    {
     "name": "stdout",
     "output_type": "stream",
     "text": [
      "[1, 3, 5, 7, 9, 11, 13, 15, 17, 19, 21, 23, 25]\n"
     ]
    }
   ],
   "source": [
    "def odd_num(n):\n",
    "    return[ a for a in range(n+1)if a%2==1]\n",
    "print(odd_num(25))"
   ]
  },
  {
   "cell_type": "code",
   "execution_count": null,
   "id": "a10d6fbd-f537-481b-889b-8671a3fb42d6",
   "metadata": {},
   "outputs": [],
   "source": [
    "#Q2.why *args and **kwargs is used in some functions? create a function each *args and **kwargs to demonstrate\n",
    "#their use.\n",
    "Ans:you can use *args and **kwargs as arguments of function when you are unsure about the number of argument \n",
    "   to pass in the functions."
   ]
  },
  {
   "cell_type": "code",
   "execution_count": 1,
   "id": "df232dcd-07ce-44ea-822a-964a69d367c7",
   "metadata": {},
   "outputs": [],
   "source": [
    "def test1(*num):\n",
    "    sum =0\n",
    "    \n",
    "    for n in num:\n",
    "        sum =sum+n\n",
    "\n",
    "    print(\"Sum:\",sum)\n",
    "\n",
    "   \n"
   ]
  },
  {
   "cell_type": "code",
   "execution_count": 6,
   "id": "e6353c27-564f-402e-89ab-88fbf2ca71ef",
   "metadata": {},
   "outputs": [
    {
     "name": "stdout",
     "output_type": "stream",
     "text": [
      "Sum: 9\n"
     ]
    }
   ],
   "source": [
    "test1(2,3,4)"
   ]
  },
  {
   "cell_type": "code",
   "execution_count": 28,
   "id": "48c7f6fe-69f6-4db1-9125-1e3a6f1c4938",
   "metadata": {},
   "outputs": [
    {
     "name": "stdout",
     "output_type": "stream",
     "text": [
      "The value of my_name is abhi\n",
      "The value of my_age is 21\n",
      "The value of my_number is 8083\n"
     ]
    }
   ],
   "source": [
    "def test2(**kwargs):\n",
    "    for key,value in kwargs.items():\n",
    "        print(\"The value of {} is {}\".format(key,value))\n",
    "test2(my_name=\"abhi\",my_age=21,my_number=8083)"
   ]
  },
  {
   "cell_type": "code",
   "execution_count": null,
   "id": "1cf7310b-c331-4732-947b-dd94fb1fe091",
   "metadata": {},
   "outputs": [],
   "source": [
    "Q3.what is an iterator in python?Namme the method use to intialise the iterator object and the method use for\n",
    "   iteration.Use these methods to print the first five elements of the given list[2,4,6,8,10,12,14,16,18,20].\n",
    "Ans:Iterator in python is an object that is  used to iterate over iterable objects like lists,tuples,dicts.\n",
    "    The iterator obect is initialized using the iter() method.It uses the next() method for iteration.  "
   ]
  },
  {
   "cell_type": "code",
   "execution_count": 33,
   "id": "33c7a987-7873-4fd4-a507-ddbae4ffc6cf",
   "metadata": {},
   "outputs": [
    {
     "name": "stdout",
     "output_type": "stream",
     "text": [
      "2\n",
      "4\n",
      "6\n",
      "8\n",
      "10\n",
      "12\n",
      "14\n",
      "18\n",
      "20\n"
     ]
    }
   ],
   "source": [
    "my_list=[2,4,6,8,10,12,14,18,20]\n",
    "iterator=iter(my_list)\n",
    "for i  in iterator:\n",
    "    print(i)\n"
   ]
  },
  {
   "cell_type": "code",
   "execution_count": null,
   "id": "9b372593-6f88-4b0c-b795-8dfa493f79dc",
   "metadata": {},
   "outputs": [],
   "source": [
    "Q4.what is  a generator function in python? why yield keyword is used ? give an example of a generator function.\n",
    "  Ans: In python , a generator is a function  that produce  a sequence of values when iterated over.\n",
    "       Generator are useful when we want to produce a large sequence of values , but we don't \n",
    "        want to store all  of them in memory at once.\n",
    "        The yield keyword is used to produce a value from thr generato.\n",
    "        \n",
    "        \n",
    "    "
   ]
  },
  {
   "cell_type": "code",
   "execution_count": 5,
   "id": "99e70556-ee7b-4856-a000-79e30f41d7e7",
   "metadata": {},
   "outputs": [],
   "source": [
    "def test2(n):\n",
    "    num =0\n",
    "    while num <n:\n",
    "        yield num\n",
    "        num =num + 1"
   ]
  },
  {
   "cell_type": "code",
   "execution_count": null,
   "id": "c694f6ad-cf1d-4ad5-bb50-33e0025ac240",
   "metadata": {},
   "outputs": [],
   "source": [
    "for num in test2(5):\n",
    "    print(num)"
   ]
  },
  {
   "cell_type": "code",
   "execution_count": null,
   "id": "0637b9fe-e95a-4b8c-8c75-62fa99825666",
   "metadata": {},
   "outputs": [],
   "source": [
    "Q5.create a generator function to prime numbers less than 1000.Use the next() method to print the first 20\n",
    "    prime number."
   ]
  },
  {
   "cell_type": "code",
   "execution_count": 1,
   "id": "ef8d904b-0fbe-4e97-b268-338e86d296f6",
   "metadata": {},
   "outputs": [
    {
     "name": "stdout",
     "output_type": "stream",
     "text": [
      "2 3 5 7 11 13 17 19 23 29 31 37 41 43 47 53 59 61 67 71 73 79 83 89 97 101 103 107 109 113 127 131 137 139 149 151 157 163 167 173 179 181 191 193 197 199 211 223 227 229 233 239 241 251 257 263 269 271 277 281 283 293 307 311 313 317 331 337 347 349 353 359 367 373 379 383 389 397 401 409 419 421 431 433 439 443 449 457 461 463 467 479 487 491 499 503 509 521 523 541 "
     ]
    }
   ],
   "source": [
    "def isprime(num):\n",
    "    for i in range(2,num):\n",
    "        if num%i==0:\n",
    "            return False\n",
    "    return True    \n",
    "\n",
    "def prime_Generator(n):\n",
    "    num=2\n",
    "    while n:\n",
    "        if isprime(num):\n",
    "            yield num\n",
    "            n-=1\n",
    "        num+=1\n",
    "    return\n",
    "it = prime_Generator(100)\n",
    "for e in it:\n",
    "    print(e,end=  \" \")"
   ]
  },
  {
   "cell_type": "code",
   "execution_count": 3,
   "id": "ffe80891-ddfa-448c-a3d2-018b2de4b3f4",
   "metadata": {},
   "outputs": [
    {
     "name": "stdout",
     "output_type": "stream",
     "text": [
      "0\n",
      "1\n",
      "1\n",
      "2\n",
      "3\n",
      "5\n",
      "8\n",
      "13\n",
      "21\n",
      "34\n"
     ]
    }
   ],
   "source": [
    "#Q6.write a python program to print first 10 fibonacci number using a while loop:\n",
    "def test_feb1():\n",
    "    a,b=0,1\n",
    "    while True :\n",
    "        yield a\n",
    "        a,b=b,a+b\n",
    "fib= test_feb1()\n",
    "for i in range(10):\n",
    "    print(next(fib))\n",
    "        \n"
   ]
  },
  {
   "cell_type": "code",
   "execution_count": 4,
   "id": "63c41c1a-df22-4a56-ab1f-d5de3c91e8e2",
   "metadata": {},
   "outputs": [
    {
     "name": "stdout",
     "output_type": "stream",
     "text": [
      "0\n",
      "1\n",
      "1\n",
      "2\n",
      "3\n",
      "5\n",
      "8\n",
      "13\n",
      "21\n",
      "34\n"
     ]
    }
   ],
   "source": [
    "n=10\n",
    "a = 0\n",
    "b = 1\n",
    "count = 0\n",
    "while count <n:\n",
    "    print(a)\n",
    "    c= a+b\n",
    "    a=b\n",
    "    b=c\n",
    "    count=count+1"
   ]
  },
  {
   "cell_type": "code",
   "execution_count": 3,
   "id": "759a82a4-ecad-4aa5-aeea-8718b8e6bc4c",
   "metadata": {},
   "outputs": [
    {
     "name": "stdout",
     "output_type": "stream",
     "text": [
      "['p', 'w', 's', 'k', 'i', 'l', 'l', 's']\n"
     ]
    }
   ],
   "source": [
    "# Q7.Write a list comprehension to iterate through the given string:\"pwskills\"\n",
    "PW_letters = []\n",
    "for letter in \"pwskills\":\n",
    "    PW_letters.append(letter)\n",
    "print(PW_letters)    "
   ]
  },
  {
   "cell_type": "code",
   "execution_count": 6,
   "id": "ef5f5ec0-8ded-46fa-b022-d5ba41060114",
   "metadata": {},
   "outputs": [
    {
     "name": "stdin",
     "output_type": "stream",
     "text": [
      "Enter number 121\n"
     ]
    },
    {
     "name": "stdout",
     "output_type": "stream",
     "text": [
      "The number is a palindrome\n"
     ]
    }
   ],
   "source": [
    "#Q8.write a program to cheak whether a given number is palindrome or not using a while loop:\n",
    " \n",
    "n = int(input(\"Enter number\"))\n",
    "temp = n\n",
    "rev = 0\n",
    "while (n>0):\n",
    "    rema = n%10\n",
    "    rev=rev*10+rema\n",
    "    n = n//10\n",
    "if temp == rev:\n",
    "        print(\"The number is a palindrome\")\n",
    "else :\n",
    "    print(\"the number is nat a palindrom\")"
   ]
  },
  {
   "cell_type": "code",
   "execution_count": 13,
   "id": "b26ffb67-67c5-43a2-a6d7-c910bae13c8d",
   "metadata": {},
   "outputs": [
    {
     "name": "stdout",
     "output_type": "stream",
     "text": [
      "[1, 3, 5, 7, 9, 11, 13, 15, 17, 19, 21, 23, 25, 27, 29, 31, 33, 35, 37, 39, 41, 43, 45, 47, 49, 51, 53, 55, 57, 59, 61, 63, 65, 67, 69, 71, 73, 75, 77, 79, 81, 83, 85, 87, 89, 91, 93, 95, 97, 99]\n"
     ]
    }
   ],
   "source": [
    "# Q9.Write a code print odd number from 1 to 100 using list comprehension:\n",
    "odd_n=[i for i in range(1,100) if i%2==1]\n",
    "print(odd_n)"
   ]
  },
  {
   "cell_type": "code",
   "execution_count": 12,
   "id": "74961fbe-befb-4523-8c72-c0551c4eb72a",
   "metadata": {},
   "outputs": [
    {
     "name": "stdout",
     "output_type": "stream",
     "text": [
      "[1, 3, 5, 7, 9, 11, 13, 15, 17, 19, 21, 23, 25, 27, 29, 31, 33, 35, 37, 39, 41, 43, 45, 47, 49, 51, 53, 55, 57, 59, 61, 63, 65, 67, 69, 71, 73, 75, 77, 79, 81, 83, 85, 87, 89, 91, 93, 95, 97, 99]\n"
     ]
    }
   ],
   "source": [
    "print(odd_n)"
   ]
  },
  {
   "cell_type": "code",
   "execution_count": null,
   "id": "3950d55b-fd24-4a88-9a8f-6dba9e8a3b7b",
   "metadata": {},
   "outputs": [],
   "source": []
  }
 ],
 "metadata": {
  "kernelspec": {
   "display_name": "Python 3 (ipykernel)",
   "language": "python",
   "name": "python3"
  },
  "language_info": {
   "codemirror_mode": {
    "name": "ipython",
    "version": 3
   },
   "file_extension": ".py",
   "mimetype": "text/x-python",
   "name": "python",
   "nbconvert_exporter": "python",
   "pygments_lexer": "ipython3",
   "version": "3.10.8"
  }
 },
 "nbformat": 4,
 "nbformat_minor": 5
}
